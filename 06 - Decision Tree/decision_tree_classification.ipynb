{
 "cells": [
  {
   "cell_type": "markdown",
   "id": "5413020b",
   "metadata": {},
   "source": [
    "# Decision Tree Implementation From Scratch"
   ]
  },
  {
   "cell_type": "markdown",
   "id": "8f5e6194",
   "metadata": {},
   "source": [
    "## Importing Necessary Libraries"
   ]
  },
  {
   "cell_type": "code",
   "execution_count": null,
   "id": "d6b181c5",
   "metadata": {},
   "outputs": [],
   "source": [
    "import numpy as np\n",
    "from collections import Counter\n",
    "import matplotlib.pyplot as plt"
   ]
  },
  {
   "cell_type": "markdown",
   "id": "ebc9626c",
   "metadata": {},
   "source": [
    "## Importing Dataset"
   ]
  },
  {
   "cell_type": "code",
   "execution_count": null,
   "id": "993bcc30",
   "metadata": {},
   "outputs": [],
   "source": [
    "from sklearn import datasets\n",
    "data = datasets.load_iris()\n",
    "X, y = data.data, data.target"
   ]
  },
  {
   "cell_type": "markdown",
   "id": "8df18136",
   "metadata": {},
   "source": [
    "## Importing Dataset into Training, Cross Validation and Test sets"
   ]
  },
  {
   "cell_type": "code",
   "execution_count": null,
   "id": "cc8b35a7",
   "metadata": {},
   "outputs": [],
   "source": [
    "from sklearn.model_selection import train_test_split\n",
    "X_train, X_, y_train, y_ = train_test_split(X, y, test_size = 0.4, random_state = 42)\n",
    "X_test, X_CV, y_test, y_CV = train_test_split(X_, y_, test_size = 0.5, random_state = 42)"
   ]
  },
  {
   "cell_type": "markdown",
   "id": "cb686b1e",
   "metadata": {},
   "source": [
    "## Defining Node Class"
   ]
  },
  {
   "cell_type": "code",
   "execution_count": null,
   "id": "79f354d6",
   "metadata": {},
   "outputs": [],
   "source": [
    "class Node(object):\n",
    "    def __init__(self, feature = None, threshold = None, left = None, right = None, value = None):\n",
    "        self.feature = feature\n",
    "        self.threshold = threshold\n",
    "        self.left = left\n",
    "        self.right = right\n",
    "        self.value = value\n",
    "    \n",
    "    def is_leaf_node(self):\n",
    "        return self.value is not None"
   ]
  },
  {
   "cell_type": "markdown",
   "id": "228b9e54",
   "metadata": {},
   "source": [
    "## Defining Decision Tree Class"
   ]
  },
  {
   "cell_type": "code",
   "execution_count": null,
   "id": "cbe988db",
   "metadata": {},
   "outputs": [],
   "source": [
    "class DecisionTree(object):\n",
    "    def __init__(self, min_samples_split = 2, max_depth = 100, n_features = None):\n",
    "        self.min_samples_split = min_samples_split\n",
    "        self.max_depth = max_depth\n",
    "        self.n_features = n_features\n",
    "        self.root = None\n",
    "    \n",
    "    def fit(self, X, y):\n",
    "        self.n_features = X.shape[1] if not self.n_features else min(X.shape[1], self.n_features)\n",
    "        self.root = self._grow_tree(X, y)\n",
    "        \n",
    "    def _grow_tree(self, X, y, depth = 0):\n",
    "        n_samples, n_feats = X.shape\n",
    "        n_labels = len(np.unique(y))\n",
    "        \n",
    "        if (depth >= self.max_depth or n_samples < self.min_samples_split or n_labels == 1):\n",
    "            leaf_value = self._most_common_label(y)\n",
    "            return Node(value = leaf_value)\n",
    "        \n",
    "        feat_idxs = np.random.choice(n_feats, self.n_features, replace = False)\n",
    "        best_feature, best_threshold = self._best_split(X, y, feat_idxs)\n",
    "        \n",
    "        left_idxs, right_idxs = self._split(X[:, best_feature], best_threshold)\n",
    "        left = self._grow_tree(X[left_idxs,:], y[left_idxs], depth+1)\n",
    "        right = self._grow_tree(X[right_idxs,:], y[right_idxs], depth+1)\n",
    "        return Node(feature = best_feature, threshold = best_threshold, left = left, right = right)\n",
    "    \n",
    "    def _best_split(self, X, y, feat_idxs):\n",
    "        best_gain = -1\n",
    "        \n",
    "        for feat in feat_idxs:\n",
    "            thresholds = np.unique(X[:, feat])\n",
    "            for thr in thresholds:\n",
    "                information_gain = self._calculate_information_gain(X[:, feat], y, thr)\n",
    "                if information_gain > best_gain:\n",
    "                    best_gain = information_gain\n",
    "                    best_feature_idx = feat\n",
    "                    best_threshold = thr\n",
    "        \n",
    "        return best_feature_idx, best_threshold\n",
    "    \n",
    "    def _calculate_information_gain(self, X_column, y, threshold):\n",
    "        \n",
    "        left_idxs, right_idxs = self._split(X_column, threshold)\n",
    "        if len(left_idxs) == 0 or len(right_idxs) == 0:\n",
    "            return 0\n",
    "        \n",
    "        parent_entropy = self._entropy(y)\n",
    "        childs_weighted_entropy = (len(left_idxs) / len(y)) * self._entropy(y[left_idxs]) + (len(right_idxs) / len(y)) * self._entropy(y[right_idxs])\n",
    "        information_gain = parent_entropy - childs_weighted_entropy\n",
    "        return information_gain\n",
    "    \n",
    "    def _split(self, X_column, threshold):\n",
    "        left_idxs = [i for i, x in enumerate(X_column) if x < threshold]\n",
    "        right_idxs = [i for i, x in enumerate(X_column) if x >= threshold]\n",
    "        return left_idxs, right_idxs\n",
    "   \n",
    "    def _entropy(self, y):\n",
    "        counts = np.unique(y, return_counts = True)[1]\n",
    "        probability = counts / len(y)\n",
    "        return -np.sum(probability*np.log2(probability))\n",
    "        \n",
    "    def _most_common_label(self, y):\n",
    "        counter = Counter(y)\n",
    "        return counter.most_common(1)[0][0]\n",
    "    \n",
    "    def predict(self, X):\n",
    "        return np.array([self._traverse_tree(x, self.root) for x in X])\n",
    "    \n",
    "    def _traverse_tree(self, x, node):\n",
    "        if node.is_leaf_node():\n",
    "            return node.value\n",
    "        else:\n",
    "            if x[node.feature] <= node.threshold:\n",
    "                return self._traverse_tree(x, node.left)\n",
    "            return self._traverse_tree(x, node.right)"
   ]
  },
  {
   "cell_type": "markdown",
   "id": "bff3ab18",
   "metadata": {},
   "source": [
    "## Instantiating and Fitting the model"
   ]
  },
  {
   "cell_type": "code",
   "execution_count": null,
   "id": "b08ac2f3",
   "metadata": {},
   "outputs": [],
   "source": [
    "clf = DecisionTree()\n",
    "clf.fit(X_train, y_train)"
   ]
  },
  {
   "cell_type": "markdown",
   "id": "8c83fde0",
   "metadata": {},
   "source": [
    "## Predicting Results"
   ]
  },
  {
   "cell_type": "code",
   "execution_count": null,
   "id": "61561d32",
   "metadata": {},
   "outputs": [],
   "source": [
    "y_train_pred = clf.predict(X_train)\n",
    "y_CV_pred = clf.predict(X_CV)\n",
    "y_test_pred = clf.predict(X_test)"
   ]
  },
  {
   "cell_type": "markdown",
   "id": "65a67c02",
   "metadata": {},
   "source": [
    "## Evaluating Model Performance and Displaying Confusion Matrix"
   ]
  },
  {
   "cell_type": "code",
   "execution_count": null,
   "id": "d9771d25",
   "metadata": {},
   "outputs": [],
   "source": [
    "from sklearn import metrics\n",
    "print(\"Training set accuracy         %\", metrics.accuracy_score(y_train, y_train_pred) * 100)\n",
    "print(\"Cross validation set accuracy %\", metrics.accuracy_score(y_CV, y_CV_pred) * 100)\n",
    "print(\"Test set accuracy             %\", metrics.accuracy_score(y_test, y_test_pred) * 100)\n",
    "\n",
    "cm = metrics.confusion_matrix(y_test, y_test_pred)\n",
    "disp = metrics.ConfusionMatrixDisplay(cm)\n",
    "disp.plot()\n",
    "\n",
    "plt.show()"
   ]
  }
 ],
 "metadata": {
  "kernelspec": {
   "display_name": "Python 3 (ipykernel)",
   "language": "python",
   "name": "python3"
  },
  "language_info": {
   "codemirror_mode": {
    "name": "ipython",
    "version": 3
   },
   "file_extension": ".py",
   "mimetype": "text/x-python",
   "name": "python",
   "nbconvert_exporter": "python",
   "pygments_lexer": "ipython3",
   "version": "3.11.5"
  },
  "toc": {
   "base_numbering": 1,
   "nav_menu": {},
   "number_sections": true,
   "sideBar": true,
   "skip_h1_title": false,
   "title_cell": "Table of Contents",
   "title_sidebar": "Contents",
   "toc_cell": false,
   "toc_position": {},
   "toc_section_display": true,
   "toc_window_display": false
  }
 },
 "nbformat": 4,
 "nbformat_minor": 5
}
