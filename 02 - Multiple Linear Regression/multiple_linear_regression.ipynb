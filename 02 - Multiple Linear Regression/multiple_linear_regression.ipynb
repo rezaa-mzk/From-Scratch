{
 "cells": [
  {
   "cell_type": "markdown",
   "id": "a7f226f6",
   "metadata": {},
   "source": [
    "# Multiple Linear Regression  Implementation From Scratch"
   ]
  },
  {
   "cell_type": "markdown",
   "id": "1101b47a",
   "metadata": {},
   "source": [
    "## Importing Necessary Libraries"
   ]
  },
  {
   "cell_type": "code",
   "execution_count": 1,
   "id": "065ffa69",
   "metadata": {},
   "outputs": [],
   "source": [
    "import numpy as np\n",
    "import pandas as pd\n",
    "import matplotlib.pyplot as plt"
   ]
  },
  {
   "cell_type": "markdown",
   "id": "8bbc0c3a",
   "metadata": {},
   "source": [
    "## Importing the Dataset"
   ]
  },
  {
   "cell_type": "code",
   "execution_count": 2,
   "id": "a13a2237",
   "metadata": {},
   "outputs": [],
   "source": [
    "data = pd.read_csv('Student_Performance.csv')\n",
    "X = data.iloc[:, :-1].values\n",
    "y = data.iloc[:, -1].values"
   ]
  },
  {
   "cell_type": "markdown",
   "id": "cf9d889d",
   "metadata": {},
   "source": [
    "## Encoding the Categorical Feature \"Extracurricular Activities\""
   ]
  },
  {
   "cell_type": "code",
   "execution_count": 3,
   "id": "5a284133",
   "metadata": {},
   "outputs": [],
   "source": [
    "from sklearn.preprocessing import OneHotEncoder\n",
    "from sklearn.compose import ColumnTransformer\n",
    "ct = ColumnTransformer([('ohe', OneHotEncoder(), [2])], remainder='passthrough')\n",
    "X = ct.fit_transform(X)[:, 1:]      # Deleting one column to avoid dummy trap"
   ]
  },
  {
   "cell_type": "markdown",
   "id": "de9bbe36",
   "metadata": {},
   "source": [
    "## Splitting the Dataset into Training, Cross Validation and Test sets"
   ]
  },
  {
   "cell_type": "code",
   "execution_count": 5,
   "id": "8810e08c",
   "metadata": {},
   "outputs": [],
   "source": [
    "from sklearn.model_selection import train_test_split\n",
    "X_train, X_, y_train, y_ = train_test_split(X, y, test_size = 0.4, random_state = 42)\n",
    "X_CV, X_test, y_CV, y_test = train_test_split(X_, y_, test_size = 0.5, random_state = 42)"
   ]
  },
  {
   "cell_type": "markdown",
   "id": "6a292db2",
   "metadata": {},
   "source": [
    "## Feature Scaling"
   ]
  },
  {
   "cell_type": "code",
   "execution_count": 6,
   "id": "0cf300bd",
   "metadata": {},
   "outputs": [],
   "source": [
    "from sklearn.preprocessing import StandardScaler\n",
    "sc_X = StandardScaler()\n",
    "X_train = sc_X.fit_transform(X_train)\n",
    "X_CV = sc_X.transform(X_CV)\n",
    "X_test = sc_X.transform(X_test)"
   ]
  },
  {
   "cell_type": "markdown",
   "id": "481a2513",
   "metadata": {},
   "source": [
    "## Defining Multiple Linear Regression Class"
   ]
  },
  {
   "cell_type": "code",
   "execution_count": 7,
   "id": "72e3af39",
   "metadata": {},
   "outputs": [],
   "source": [
    "class MultipleLinearRegression():\n",
    "    \n",
    "    def __init__(self, learning_rate = 0.01, n_iter = 1000):\n",
    "        self.lr =  learning_rate\n",
    "        self.n_iter = n_iter\n",
    "        self.weights = None\n",
    "        self.bias = None\n",
    "    \n",
    "    def fit(self, X, y):\n",
    "        \n",
    "        n_samples, n_features = X.shape\n",
    "        self.weights = np.zeros(n_features)\n",
    "        self.bias = 0\n",
    "        \n",
    "        for _ in range(0, self.n_iter):\n",
    "            \n",
    "            y_pred = np.dot(self.weights, X.T) + self.bias\n",
    "            \n",
    "            dw = (1/n_samples) * np.dot((y_pred - y), X)\n",
    "            db = (1/n_samples) * np.sum(y_pred - y)\n",
    "            \n",
    "            self.weights = self.weights - self.lr * dw\n",
    "            self.bias = self.bias - self.lr * db\n",
    "            \n",
    "    def predict(self, X):\n",
    "        \n",
    "        return np.dot(self.weights, X.T) + self.bias\n"
   ]
  },
  {
   "cell_type": "markdown",
   "id": "fe81f911",
   "metadata": {},
   "source": [
    "## Creating Instance and Fitting the Model"
   ]
  },
  {
   "cell_type": "code",
   "execution_count": 8,
   "id": "04b1a8c7",
   "metadata": {},
   "outputs": [],
   "source": [
    "mlr = MultipleLinearRegression()\n",
    "mlr.fit(X_train, y_train)"
   ]
  },
  {
   "cell_type": "markdown",
   "id": "7c93a6ad",
   "metadata": {},
   "source": [
    "## Making Predictions"
   ]
  },
  {
   "cell_type": "code",
   "execution_count": 9,
   "id": "a137e99a",
   "metadata": {},
   "outputs": [],
   "source": [
    "y_train_pred = mlr.predict(X_train)\n",
    "y_CV_pred = mlr.predict(X_CV)\n",
    "y_test_pred = mlr.predict(X_test)"
   ]
  },
  {
   "cell_type": "markdown",
   "id": "bfcae031",
   "metadata": {},
   "source": [
    "## Evaluate the model and displaying the confusion matrix"
   ]
  },
  {
   "cell_type": "code",
   "execution_count": 10,
   "id": "53fa4694",
   "metadata": {},
   "outputs": [
    {
     "name": "stdout",
     "output_type": "stream",
     "text": [
      "Training set r^2 score:             0.9887507674397655\n",
      "Cross validation set r^2 score:     0.9886570846114183\n",
      "Test set r^2 score:                 0.9887770015082121\n"
     ]
    }
   ],
   "source": [
    "from sklearn.metrics import r2_score\n",
    "print(\"Training set r^2 score:            \", r2_score(y_train, y_train_pred))\n",
    "print(\"Cross validation set r^2 score:    \", r2_score(y_CV, y_CV_pred))\n",
    "print(\"Test set r^2 score:                \", r2_score(y_test, y_test_pred))"
   ]
  }
 ],
 "metadata": {
  "kernelspec": {
   "display_name": "Python 3 (ipykernel)",
   "language": "python",
   "name": "python3"
  },
  "language_info": {
   "codemirror_mode": {
    "name": "ipython",
    "version": 3
   },
   "file_extension": ".py",
   "mimetype": "text/x-python",
   "name": "python",
   "nbconvert_exporter": "python",
   "pygments_lexer": "ipython3",
   "version": "3.11.5"
  },
  "toc": {
   "base_numbering": 1,
   "nav_menu": {},
   "number_sections": true,
   "sideBar": true,
   "skip_h1_title": false,
   "title_cell": "Table of Contents",
   "title_sidebar": "Contents",
   "toc_cell": false,
   "toc_position": {},
   "toc_section_display": true,
   "toc_window_display": false
  },
  "varInspector": {
   "cols": {
    "lenName": 16,
    "lenType": 16,
    "lenVar": 40
   },
   "kernels_config": {
    "python": {
     "delete_cmd_postfix": "",
     "delete_cmd_prefix": "del ",
     "library": "var_list.py",
     "varRefreshCmd": "print(var_dic_list())"
    },
    "r": {
     "delete_cmd_postfix": ") ",
     "delete_cmd_prefix": "rm(",
     "library": "var_list.r",
     "varRefreshCmd": "cat(var_dic_list()) "
    }
   },
   "types_to_exclude": [
    "module",
    "function",
    "builtin_function_or_method",
    "instance",
    "_Feature"
   ],
   "window_display": false
  }
 },
 "nbformat": 4,
 "nbformat_minor": 5
}
