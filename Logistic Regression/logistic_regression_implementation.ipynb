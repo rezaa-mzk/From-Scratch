{
 "cells": [
  {
   "cell_type": "markdown",
   "id": "c3d9a573",
   "metadata": {},
   "source": [
    "# Logistic Regression Implementation From Scratch"
   ]
  },
  {
   "cell_type": "markdown",
   "id": "6b2fbda3",
   "metadata": {},
   "source": [
    "## Importing the Libraries"
   ]
  },
  {
   "cell_type": "code",
   "execution_count": 1,
   "id": "6b8b0812",
   "metadata": {},
   "outputs": [],
   "source": [
    "import numpy as np"
   ]
  },
  {
   "cell_type": "markdown",
   "id": "d249598d",
   "metadata": {},
   "source": [
    "## Importing the Dataset"
   ]
  },
  {
   "cell_type": "code",
   "execution_count": 2,
   "id": "579e969e",
   "metadata": {},
   "outputs": [],
   "source": [
    "from sklearn import datasets\n",
    "bc = datasets.load_breast_cancer()\n",
    "X, y = bc.data, bc.target"
   ]
  },
  {
   "cell_type": "markdown",
   "id": "c88242d0",
   "metadata": {},
   "source": [
    "## Splitting the Dataset into the Training set and Test set"
   ]
  },
  {
   "cell_type": "code",
   "execution_count": 3,
   "id": "af303c0e",
   "metadata": {},
   "outputs": [],
   "source": [
    "from sklearn.model_selection import train_test_split\n",
    "X_train, X_test, y_train, y_test = train_test_split(X, y, test_size = 0.25, random_state = 42)"
   ]
  },
  {
   "cell_type": "markdown",
   "id": "1aaa1bb0",
   "metadata": {},
   "source": [
    "## Defining the Logistic Regression Class"
   ]
  },
  {
   "cell_type": "code",
   "execution_count": 4,
   "id": "f2759589",
   "metadata": {},
   "outputs": [],
   "source": [
    "class CustomLogisticRegression():\n",
    "\n",
    "    def __init__(self, max_iter = 1000, learning_rate = 0.01):\n",
    "        \n",
    "        self.max_iter = max_iter\n",
    "        self.learning_rate = learning_rate\n",
    "        self.theta = None\n",
    "        self.bias = None\n",
    "        \n",
    "    def fit(self, X, y):\n",
    "        \n",
    "        n_samples, n_features = X.shape\n",
    "        self.theta = np.zeros((n_features, 1))\n",
    "        self.bias = 0\n",
    "        \n",
    "        for i in range(0, self.max_iter):\n",
    "            weighted_sum = np.dot(self.theta.T, X.T) + self.bias\n",
    "            h_theta = self._sigmoid(weighted_sum)\n",
    "            self.gradient_descent(y, h_theta, X, n_samples)\n",
    "                \n",
    "    def predict(self, inputs):\n",
    "        \n",
    "        return [1 if _ >= 0.5 else 0 for _ in self._sigmoid(np.dot(inputs, self.theta) + self.bias)]\n",
    "        \n",
    "    def _sigmoid(self, x):\n",
    "        \n",
    "        return 1.0 / (1.0 + np.exp(-x))\n",
    "    \n",
    "    def gradient_descent(self, y, h_theta, X, n_samples):\n",
    "        \n",
    "        self.theta = self.theta - self.learning_rate * (-1 / n_samples) * np.dot((y - h_theta), X).T\n",
    "        self.bias = self.bias - self.learning_rate * (-1 / n_samples) * np.sum(y - h_theta)\n",
    "        "
   ]
  },
  {
   "cell_type": "markdown",
   "id": "0ce50055",
   "metadata": {},
   "source": [
    "## Fit model and predict test results"
   ]
  },
  {
   "cell_type": "code",
   "execution_count": 5,
   "id": "356d1a98",
   "metadata": {},
   "outputs": [
    {
     "name": "stderr",
     "output_type": "stream",
     "text": [
      "C:\\Users\\rezam\\AppData\\Local\\Temp\\ipykernel_1720\\3459203600.py:27: RuntimeWarning: overflow encountered in exp\n",
      "  return 1.0 / (1.0 + np.exp(-x))\n"
     ]
    }
   ],
   "source": [
    "clf = CustomLogisticRegression()\n",
    "clf.fit(X_train, y_train)\n",
    "y_pred = clf.predict(X_test)"
   ]
  },
  {
   "cell_type": "markdown",
   "id": "fbabdfee",
   "metadata": {},
   "source": [
    "## Check accuracy score"
   ]
  },
  {
   "cell_type": "code",
   "execution_count": 6,
   "id": "de1ca83b",
   "metadata": {},
   "outputs": [
    {
     "data": {
      "text/plain": [
       "0.9440559440559441"
      ]
     },
     "execution_count": 6,
     "metadata": {},
     "output_type": "execute_result"
    }
   ],
   "source": [
    "from sklearn.metrics import accuracy_score\n",
    "accuracy_score(y_test, y_pred)"
   ]
  }
 ],
 "metadata": {
  "kernelspec": {
   "display_name": "Python 3 (ipykernel)",
   "language": "python",
   "name": "python3"
  },
  "language_info": {
   "codemirror_mode": {
    "name": "ipython",
    "version": 3
   },
   "file_extension": ".py",
   "mimetype": "text/x-python",
   "name": "python",
   "nbconvert_exporter": "python",
   "pygments_lexer": "ipython3",
   "version": "3.9.12"
  },
  "toc": {
   "base_numbering": 1,
   "nav_menu": {},
   "number_sections": true,
   "sideBar": true,
   "skip_h1_title": false,
   "title_cell": "Table of Contents",
   "title_sidebar": "Contents",
   "toc_cell": false,
   "toc_position": {},
   "toc_section_display": true,
   "toc_window_display": false
  },
  "varInspector": {
   "cols": {
    "lenName": 16,
    "lenType": 16,
    "lenVar": 40
   },
   "kernels_config": {
    "python": {
     "delete_cmd_postfix": "",
     "delete_cmd_prefix": "del ",
     "library": "var_list.py",
     "varRefreshCmd": "print(var_dic_list())"
    },
    "r": {
     "delete_cmd_postfix": ") ",
     "delete_cmd_prefix": "rm(",
     "library": "var_list.r",
     "varRefreshCmd": "cat(var_dic_list()) "
    }
   },
   "types_to_exclude": [
    "module",
    "function",
    "builtin_function_or_method",
    "instance",
    "_Feature"
   ],
   "window_display": false
  }
 },
 "nbformat": 4,
 "nbformat_minor": 5
}
