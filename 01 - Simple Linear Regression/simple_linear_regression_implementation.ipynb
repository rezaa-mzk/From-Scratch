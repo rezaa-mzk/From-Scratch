{
 "cells": [
  {
   "cell_type": "markdown",
   "id": "ff2abb00",
   "metadata": {},
   "source": [
    "# Simple Linear Regression Implementation Using Gradient Descent"
   ]
  },
  {
   "cell_type": "markdown",
   "id": "6ec97c41",
   "metadata": {},
   "source": [
    "## Importing necessary libraries"
   ]
  },
  {
   "cell_type": "code",
   "execution_count": 1,
   "id": "70b2ef1d",
   "metadata": {},
   "outputs": [],
   "source": [
    "import pandas as pd # Handling dataset\n",
    "import numpy as np # Handling numbers\n",
    "import matplotlib.pyplot as plt # Drawing charts"
   ]
  },
  {
   "cell_type": "markdown",
   "id": "557973ce",
   "metadata": {},
   "source": [
    "## Importing the Dataset"
   ]
  },
  {
   "cell_type": "code",
   "execution_count": 3,
   "id": "0c66826f",
   "metadata": {},
   "outputs": [],
   "source": [
    "dataset = pd.read_csv('Salary_Data.csv')\n",
    "X = dataset.iloc[:, :-1].values # Matrix of features\n",
    "y = dataset.iloc[:, -1].values # Dependent variable"
   ]
  },
  {
   "cell_type": "markdown",
   "id": "b7d18441",
   "metadata": {},
   "source": [
    "## Splitting the Dataset into the Training set and Test set"
   ]
  },
  {
   "cell_type": "code",
   "execution_count": 4,
   "id": "f695443e",
   "metadata": {},
   "outputs": [],
   "source": [
    "from sklearn.model_selection import train_test_split\n",
    "X_train, X_test, y_train, y_test = train_test_split(X, y, test_size = 0.25)"
   ]
  },
  {
   "cell_type": "markdown",
   "id": "6e803468",
   "metadata": {},
   "source": [
    "## Implementing Gradient Descent"
   ]
  },
  {
   "cell_type": "code",
   "execution_count": 5,
   "id": "9a6a8586",
   "metadata": {},
   "outputs": [],
   "source": [
    "epochs = 100000 # Number of iterations\n",
    "theta_0 = 0 # Initializing the intercept\n",
    "theta_1 = 0 # Initializing the coefficient\n",
    "alpha = 1/250 # Learning rate\n",
    "m = len(X_train) # Number of training set examples\n",
    "for i in range(0, epochs):\n",
    "    temp_0 = (theta_0 - (alpha * (1 / m) * sum([((theta_0 + theta_1 * X_train[j]) - y_train[j]) for j in range(0, m)])))\n",
    "    theta_1 = (theta_1 - (alpha * (1 / m) * sum([((theta_0 + theta_1 * X_train[j]) - y_train[j]) * X_train[j] for j in range(0, m)])))\n",
    "    if abs(temp_0 - theta_0) < 0.0000001: # Convergence condition\n",
    "        break\n",
    "    theta_0 = temp_0 "
   ]
  },
  {
   "cell_type": "code",
   "execution_count": 6,
   "id": "bf254cee",
   "metadata": {},
   "outputs": [],
   "source": [
    "# Rounding values for convenience\n",
    "theta_0 = np.round(theta_0, 5)\n",
    "theta_1 = np.round(theta_1, 5)"
   ]
  },
  {
   "cell_type": "code",
   "execution_count": 7,
   "id": "868e3114",
   "metadata": {},
   "outputs": [
    {
     "data": {
      "text/plain": [
       "array([26968.71977])"
      ]
     },
     "execution_count": 7,
     "metadata": {},
     "output_type": "execute_result"
    }
   ],
   "source": [
    "theta_0"
   ]
  },
  {
   "cell_type": "markdown",
   "id": "1e716a09",
   "metadata": {},
   "source": [
    "## Predicting the Test set results"
   ]
  },
  {
   "cell_type": "code",
   "execution_count": 7,
   "id": "a8261bb8",
   "metadata": {},
   "outputs": [],
   "source": [
    "y_train_pred = [theta_0 + theta_1 * X_train[k] for k in range(0, len(X_train))]"
   ]
  },
  {
   "cell_type": "code",
   "execution_count": 8,
   "id": "f99acd62",
   "metadata": {},
   "outputs": [],
   "source": [
    "y_test_pred = [theta_0 + theta_1 * X_test[k] for k in range(0, len(X_test))]"
   ]
  },
  {
   "cell_type": "markdown",
   "id": "da6e9da0",
   "metadata": {},
   "source": [
    "## Evaluating the Model"
   ]
  },
  {
   "cell_type": "code",
   "execution_count": 9,
   "id": "bf995143",
   "metadata": {},
   "outputs": [
    {
     "name": "stdout",
     "output_type": "stream",
     "text": [
      "0.9204341591813463\n"
     ]
    }
   ],
   "source": [
    "from sklearn.metrics import r2_score\n",
    "print(r2_score(y_test, y_test_pred))"
   ]
  },
  {
   "cell_type": "markdown",
   "id": "519654ec",
   "metadata": {},
   "source": [
    "## Visualising the Training set results"
   ]
  },
  {
   "cell_type": "code",
   "execution_count": 10,
   "id": "22f2bf11",
   "metadata": {},
   "outputs": [
    {
     "data": {
      "image/png": "[encoded data removed]",
      "text/plain": [
       "<Figure size 432x288 with 1 Axes>"
      ]
     },
     "metadata": {
      "needs_background": "light"
     },
     "output_type": "display_data"
    }
   ],
   "source": [
    "plt.scatter(X_train, y_train, color = 'red')\n",
    "plt.plot(X_train, y_train_pred, color = 'blue')\n",
    "plt.title('Salary vs Experience (Test set)')\n",
    "plt.xlabel('Years of Experience')\n",
    "plt.ylabel('Salary')\n",
    "plt.show()"
   ]
  },
  {
   "cell_type": "markdown",
   "id": "33cd63a6",
   "metadata": {},
   "source": [
    "## Visualising the Test set results"
   ]
  },
  {
   "cell_type": "code",
   "execution_count": 11,
   "id": "eafa30dd",
   "metadata": {},
   "outputs": [
    {
     "data": {
      "image/png": "[encoded data removed]",
      "text/plain": [
       "<Figure size 432x288 with 1 Axes>"
      ]
     },
     "metadata": {
      "needs_background": "light"
     },
     "output_type": "display_data"
    }
   ],
   "source": [
    "plt.scatter(X_test, y_test, color = 'red')\n",
    "plt.plot(X_test, y_test_pred, color = 'blue')\n",
    "plt.title('Salary vs Experience (Test set)')\n",
    "plt.xlabel('Years of Experience')\n",
    "plt.ylabel('Salary')\n",
    "plt.show()"
   ]
  }
 ],
 "metadata": {
  "kernelspec": {
   "display_name": "Python 3 (ipykernel)",
   "language": "python",
   "name": "python3"
  },
  "language_info": {
   "codemirror_mode": {
    "name": "ipython",
    "version": 3
   },
   "file_extension": ".py",
   "mimetype": "text/x-python",
   "name": "python",
   "nbconvert_exporter": "python",
   "pygments_lexer": "ipython3",
   "version": "3.11.4"
  },
  "toc": {
   "base_numbering": 1,
   "nav_menu": {},
   "number_sections": true,
   "sideBar": true,
   "skip_h1_title": false,
   "title_cell": "Table of Contents",
   "title_sidebar": "Contents",
   "toc_cell": false,
   "toc_position": {},
   "toc_section_display": true,
   "toc_window_display": false
  },
  "varInspector": {
   "cols": {
    "lenName": 16,
    "lenType": 16,
    "lenVar": 40
   },
   "kernels_config": {
    "python": {
     "delete_cmd_postfix": "",
     "delete_cmd_prefix": "del ",
     "library": "var_list.py",
     "varRefreshCmd": "print(var_dic_list())"
    },
    "r": {
     "delete_cmd_postfix": ") ",
     "delete_cmd_prefix": "rm(",
     "library": "var_list.r",
     "varRefreshCmd": "cat(var_dic_list()) "
    }
   },
   "types_to_exclude": [
    "module",
    "function",
    "builtin_function_or_method",
    "instance",
    "_Feature"
   ],
   "window_display": false
  }
 },
 "nbformat": 4,
 "nbformat_minor": 5
}
