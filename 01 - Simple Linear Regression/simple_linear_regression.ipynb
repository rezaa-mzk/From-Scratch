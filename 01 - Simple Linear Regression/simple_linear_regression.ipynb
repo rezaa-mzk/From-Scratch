{
 "cells": [
  {
   "cell_type": "markdown",
   "id": "24719736",
   "metadata": {},
   "source": [
    "# Implementing Simple Linear Regression From Scratch"
   ]
  },
  {
   "cell_type": "markdown",
   "id": "2cd04b66",
   "metadata": {},
   "source": [
    "## Importing the Libraries"
   ]
  },
  {
   "cell_type": "code",
   "execution_count": 1,
   "id": "f2f8eb03",
   "metadata": {},
   "outputs": [],
   "source": [
    "import pandas as pd # Handling dataset\n",
    "import numpy as np # Handling numbers\n",
    "import matplotlib.pyplot as plt # Drawing charts"
   ]
  },
  {
   "cell_type": "markdown",
   "id": "6d201fc1",
   "metadata": {},
   "source": [
    "## Importing the Dataset"
   ]
  },
  {
   "cell_type": "code",
   "execution_count": 2,
   "id": "40d08578",
   "metadata": {},
   "outputs": [],
   "source": [
    "dataset = pd.read_csv('Salary_Data.csv')\n",
    "X = dataset.iloc[:, :-1].values # Matrix of features\n",
    "y = dataset.iloc[:, -1].values # Dependent variable\n",
    "y = y.reshape(len(y), 1)"
   ]
  },
  {
   "cell_type": "markdown",
   "id": "52be825a",
   "metadata": {},
   "source": [
    "## Splitting the Dataset into the Training set and Test set"
   ]
  },
  {
   "cell_type": "code",
   "execution_count": 3,
   "id": "a83f13b8",
   "metadata": {},
   "outputs": [],
   "source": [
    "from sklearn.model_selection import train_test_split\n",
    "X_train, X_test, y_train, y_test = train_test_split(X, y, test_size = 0.25, random_state = 42)"
   ]
  },
  {
   "cell_type": "markdown",
   "id": "d37b6ae8",
   "metadata": {},
   "source": [
    "## Defining the Simple Linear Regression Class"
   ]
  },
  {
   "cell_type": "code",
   "execution_count": 19,
   "id": "0375a59c",
   "metadata": {
    "code_folding": []
   },
   "outputs": [],
   "source": [
    "class SimpleLinearRegression():\n",
    "    \n",
    "    def __init__(self, learning_rate = 0.01, n_iter = 1000):\n",
    "        \n",
    "        self.learning_rate = learning_rate\n",
    "        self.n_iter = n_iter\n",
    "        self.weight = None\n",
    "        self.bias = None\n",
    "        \n",
    "        \n",
    "    def h_theta(self, x):\n",
    "        \n",
    "        return self.weight * x + self.bias # z = w.x + b\n",
    "        \n",
    "    \n",
    "    def fit(self, X, y):\n",
    "        \n",
    "        self.weight = 0\n",
    "        self.bias = 0\n",
    "        n_samples = X.shape[0] #Extracting number of training set members to be used as m\n",
    "    \n",
    "        for i in range(0, self.n_iter):\n",
    "            dw = (1 / n_samples) * np.dot((self.h_theta(X) - y).T, X).item()\n",
    "            db = (1 / n_samples) * np.sum(self.h_theta(X) - y)\n",
    "            self.gradient_descent(dw, db)\n",
    "            \n",
    "    def gradient_descent(self, dw, db):\n",
    "        \n",
    "        self.weight = self.weight - self.learning_rate * dw\n",
    "        self.bias = self.bias - self.learning_rate * db\n",
    "            \n",
    "            \n",
    "    def predict(self, X):\n",
    "        \n",
    "        return [self.h_theta(x.item()) for x in X]"
   ]
  },
  {
   "cell_type": "markdown",
   "id": "9a0c9297",
   "metadata": {},
   "source": [
    "## Fit model and predict test results"
   ]
  },
  {
   "cell_type": "code",
   "execution_count": 17,
   "id": "8a38f6bf",
   "metadata": {},
   "outputs": [],
   "source": [
    "slr = SimpleLinearRegression()\n",
    "slr.fit(X_train, y_train)\n",
    "y_pred = slr.predict(X_test)"
   ]
  },
  {
   "cell_type": "markdown",
   "id": "9a0fee2c",
   "metadata": {},
   "source": [
    "## Check accuracy score"
   ]
  },
  {
   "cell_type": "code",
   "execution_count": 20,
   "id": "bcbbfc2f",
   "metadata": {},
   "outputs": [
    {
     "data": {
      "text/plain": [
       "0.8281961849505112"
      ]
     },
     "execution_count": 20,
     "metadata": {},
     "output_type": "execute_result"
    }
   ],
   "source": [
    "from sklearn.metrics import r2_score\n",
    "r2_score(y_test, y_pred)"
   ]
  }
 ],
 "metadata": {
  "kernelspec": {
   "display_name": "Python 3 (ipykernel)",
   "language": "python",
   "name": "python3"
  },
  "language_info": {
   "codemirror_mode": {
    "name": "ipython",
    "version": 3
   },
   "file_extension": ".py",
   "mimetype": "text/x-python",
   "name": "python",
   "nbconvert_exporter": "python",
   "pygments_lexer": "ipython3",
   "version": "3.11.4"
  },
  "toc": {
   "base_numbering": 1,
   "nav_menu": {},
   "number_sections": true,
   "sideBar": true,
   "skip_h1_title": false,
   "title_cell": "Table of Contents",
   "title_sidebar": "Contents",
   "toc_cell": false,
   "toc_position": {},
   "toc_section_display": true,
   "toc_window_display": false
  },
  "varInspector": {
   "cols": {
    "lenName": 16,
    "lenType": 16,
    "lenVar": 40
   },
   "kernels_config": {
    "python": {
     "delete_cmd_postfix": "",
     "delete_cmd_prefix": "del ",
     "library": "var_list.py",
     "varRefreshCmd": "print(var_dic_list())"
    },
    "r": {
     "delete_cmd_postfix": ") ",
     "delete_cmd_prefix": "rm(",
     "library": "var_list.r",
     "varRefreshCmd": "cat(var_dic_list()) "
    }
   },
   "types_to_exclude": [
    "module",
    "function",
    "builtin_function_or_method",
    "instance",
    "_Feature"
   ],
   "window_display": false
  }
 },
 "nbformat": 4,
 "nbformat_minor": 5
}
