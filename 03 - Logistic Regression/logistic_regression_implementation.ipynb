{
 "cells": [
  {
   "cell_type": "markdown",
   "id": "c3d9a573",
   "metadata": {},
   "source": [
    "# Logistic Regression Implementation From Scratch"
   ]
  },
  {
   "cell_type": "markdown",
   "id": "6b2fbda3",
   "metadata": {},
   "source": [
    "## Importing Necessary Libraries"
   ]
  },
  {
   "cell_type": "code",
   "execution_count": 1,
   "id": "6b8b0812",
   "metadata": {},
   "outputs": [],
   "source": [
    "import numpy as np\n",
    "import matplotlib.pyplot as plt"
   ]
  },
  {
   "cell_type": "markdown",
   "id": "d249598d",
   "metadata": {},
   "source": [
    "## Importing the Dataset"
   ]
  },
  {
   "cell_type": "code",
   "execution_count": 2,
   "id": "579e969e",
   "metadata": {},
   "outputs": [],
   "source": [
    "from sklearn import datasets\n",
    "bc = datasets.load_breast_cancer()\n",
    "X, y = bc.data, bc.target"
   ]
  },
  {
   "cell_type": "markdown",
   "id": "c88242d0",
   "metadata": {},
   "source": [
    "## Splitting the Dataset into the Training, Cross Validation and Test sets"
   ]
  },
  {
   "cell_type": "code",
   "execution_count": 3,
   "id": "af303c0e",
   "metadata": {},
   "outputs": [],
   "source": [
    "from sklearn.model_selection import train_test_split\n",
    "X_train, X_, y_train, y_ = train_test_split(X, y, test_size = 0.40, random_state = 42)\n",
    "X_CV, X_test, y_CV, y_test = train_test_split(X_, y_, test_size = 0.50, random_state = 42)"
   ]
  },
  {
   "cell_type": "markdown",
   "id": "73fe9024",
   "metadata": {},
   "source": [
    "## Feature Scaling"
   ]
  },
  {
   "cell_type": "code",
   "execution_count": 4,
   "id": "40511e32",
   "metadata": {},
   "outputs": [],
   "source": [
    "from sklearn.preprocessing import StandardScaler\n",
    "sc = StandardScaler()\n",
    "X_train = sc.fit_transform(X_train)\n",
    "X_CV = sc.transform(X_CV)\n",
    "X_test = sc.transform(X_test)"
   ]
  },
  {
   "cell_type": "markdown",
   "id": "1aaa1bb0",
   "metadata": {},
   "source": [
    "## Defining the Custom Logistic Regression Class"
   ]
  },
  {
   "cell_type": "code",
   "execution_count": 5,
   "id": "f2759589",
   "metadata": {},
   "outputs": [],
   "source": [
    "class CustomLogisticRegression():\n",
    "\n",
    "    def __init__(self, max_iter = 1000, learning_rate = 0.01):\n",
    "        \n",
    "        self.max_iter = max_iter\n",
    "        self.learning_rate = learning_rate\n",
    "        self.theta = None\n",
    "        self.bias = None\n",
    "        \n",
    "    def fit(self, X, y):\n",
    "        \n",
    "        n_samples, n_features = X.shape\n",
    "        self.theta = np.zeros((n_features, 1))\n",
    "        self.bias = 0\n",
    "        \n",
    "        for i in range(0, self.max_iter):\n",
    "            weighted_sum = np.dot(self.theta.T, X.T) + self.bias\n",
    "            h_theta = self._sigmoid(weighted_sum)\n",
    "            self.gradient_descent(y, h_theta, X, n_samples)\n",
    "                \n",
    "    def predict(self, inputs):\n",
    "        \n",
    "        return [1 if _ >= 0.5 else 0 for _ in self._sigmoid(np.dot(inputs, self.theta) + self.bias)]\n",
    "        \n",
    "    def _sigmoid(self, x):\n",
    "        \n",
    "        return 1.0 / (1.0 + np.exp(-x))\n",
    "    \n",
    "    def gradient_descent(self, y, h_theta, X, n_samples):\n",
    "        \n",
    "        self.theta = self.theta - self.learning_rate * (-1 / n_samples) * np.dot((y - h_theta), X).T\n",
    "        self.bias = self.bias - self.learning_rate * (-1 / n_samples) * np.sum(y - h_theta)\n",
    "        "
   ]
  },
  {
   "cell_type": "markdown",
   "id": "0ce50055",
   "metadata": {},
   "source": [
    "## Creating Instance and Fitting the model"
   ]
  },
  {
   "cell_type": "code",
   "execution_count": 6,
   "id": "356d1a98",
   "metadata": {},
   "outputs": [],
   "source": [
    "clf = CustomLogisticRegression()\n",
    "clf.fit(X_train, y_train)"
   ]
  },
  {
   "cell_type": "markdown",
   "id": "23d44ebf",
   "metadata": {},
   "source": [
    "## Making Predictions"
   ]
  },
  {
   "cell_type": "code",
   "execution_count": 7,
   "id": "3a5f2840",
   "metadata": {},
   "outputs": [],
   "source": [
    "y_train_pred = clf.predict(X_train)\n",
    "y_CV_pred = clf.predict(X_CV)\n",
    "y_test_pred = clf.predict(X_test)"
   ]
  },
  {
   "cell_type": "markdown",
   "id": "fbabdfee",
   "metadata": {},
   "source": [
    "## Evaluate the model and displaying the confusion matrix"
   ]
  },
  {
   "cell_type": "code",
   "execution_count": 8,
   "id": "de1ca83b",
   "metadata": {},
   "outputs": [
    {
     "name": "stdout",
     "output_type": "stream",
     "text": [
      "Training set accuracy         % 97.94721407624634\n",
      "Cross validation set accuracy % 98.24561403508771\n",
      "Test set accuracy             % 99.12280701754386\n"
     ]
    },
    {
     "data": {
      "image/png": "[encoded data removed]",
      "text/plain": [
       "<Figure size 640x480 with 2 Axes>"
      ]
     },
     "metadata": {},
     "output_type": "display_data"
    }
   ],
   "source": [
    "from sklearn import metrics\n",
    "print(\"Training set accuracy         %\", metrics.accuracy_score(y_train, y_train_pred) * 100)\n",
    "print(\"Cross validation set accuracy %\", metrics.accuracy_score(y_CV, y_CV_pred) * 100)\n",
    "print(\"Test set accuracy             %\", metrics.accuracy_score(y_test, y_test_pred) * 100)\n",
    "\n",
    "cm = metrics.confusion_matrix(y_test, y_test_pred)\n",
    "disp = metrics.ConfusionMatrixDisplay(cm)\n",
    "disp.plot()\n",
    "\n",
    "plt.show()"
   ]
  }
 ],
 "metadata": {
  "kernelspec": {
   "display_name": "Python 3 (ipykernel)",
   "language": "python",
   "name": "python3"
  },
  "language_info": {
   "codemirror_mode": {
    "name": "ipython",
    "version": 3
   },
   "file_extension": ".py",
   "mimetype": "text/x-python",
   "name": "python",
   "nbconvert_exporter": "python",
   "pygments_lexer": "ipython3",
   "version": "3.11.4"
  },
  "toc": {
   "base_numbering": 1,
   "nav_menu": {},
   "number_sections": true,
   "sideBar": true,
   "skip_h1_title": false,
   "title_cell": "Table of Contents",
   "title_sidebar": "Contents",
   "toc_cell": false,
   "toc_position": {},
   "toc_section_display": true,
   "toc_window_display": false
  },
  "varInspector": {
   "cols": {
    "lenName": 16,
    "lenType": 16,
    "lenVar": 40
   },
   "kernels_config": {
    "python": {
     "delete_cmd_postfix": "",
     "delete_cmd_prefix": "del ",
     "library": "var_list.py",
     "varRefreshCmd": "print(var_dic_list())"
    },
    "r": {
     "delete_cmd_postfix": ") ",
     "delete_cmd_prefix": "rm(",
     "library": "var_list.r",
     "varRefreshCmd": "cat(var_dic_list()) "
    }
   },
   "types_to_exclude": [
    "module",
    "function",
    "builtin_function_or_method",
    "instance",
    "_Feature"
   ],
   "window_display": false
  }
 },
 "nbformat": 4,
 "nbformat_minor": 5
}
