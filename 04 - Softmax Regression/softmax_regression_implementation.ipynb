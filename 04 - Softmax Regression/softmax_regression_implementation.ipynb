{
 "cells": [
  {
   "cell_type": "markdown",
   "id": "9af3b877",
   "metadata": {},
   "source": [
    "# Softmax Regression Implementation from Scratch"
   ]
  },
  {
   "cell_type": "markdown",
   "id": "28f480c4",
   "metadata": {},
   "source": [
    "## Importing Necessary Libraries"
   ]
  },
  {
   "cell_type": "code",
   "execution_count": 1,
   "id": "9aae2880",
   "metadata": {},
   "outputs": [],
   "source": [
    "import numpy as np                                # To handle numbers\n",
    "import matplotlib.pyplot as plt                   # Visualizing data entries"
   ]
  },
  {
   "cell_type": "markdown",
   "id": "041ac3f7",
   "metadata": {},
   "source": [
    "## Importing Dataset"
   ]
  },
  {
   "cell_type": "code",
   "execution_count": 2,
   "id": "a0158c1b",
   "metadata": {},
   "outputs": [],
   "source": [
    "from sklearn import datasets\n",
    "digits = datasets.load_digits()\n",
    "n_samples = len(digits.images)\n",
    "X = digits.images.reshape((n_samples, -1))         # 1797 pictures of handwritten digits in a 8*8 pixel shape\n",
    "y = digits.target                                  # 1797 "
   ]
  },
  {
   "cell_type": "markdown",
   "id": "c839461f",
   "metadata": {},
   "source": [
    "## Visualizing First Ten Digits in the Dataset"
   ]
  },
  {
   "cell_type": "code",
   "execution_count": 3,
   "id": "6c4040df",
   "metadata": {},
   "outputs": [
    {
     "data": {
      "image/png": "[encoded data removed]",
      "text/plain": [
       "<Figure size 1000x600 with 10 Axes>"
      ]
     },
     "metadata": {},
     "output_type": "display_data"
    }
   ],
   "source": [
    "fig, axes = plt.subplots(nrows=1, ncols=10, figsize=(10, 6), subplot_kw={'xticks': [], 'yticks': []})\n",
    "for i in range(10):\n",
    "    axes[i].imshow(digits.images[i], cmap=plt.cm.gray_r, interpolation=\"nearest\")\n",
    "    axes[i].set_title(y[i])\n",
    "fig.tight_layout()\n",
    "plt.show()"
   ]
  },
  {
   "cell_type": "markdown",
   "id": "a7e110d0",
   "metadata": {},
   "source": [
    "## Converting Data Labels to Binary Probabilities"
   ]
  },
  {
   "cell_type": "code",
   "execution_count": 4,
   "id": "a075fca3",
   "metadata": {},
   "outputs": [],
   "source": [
    "from sklearn.preprocessing import LabelBinarizer\n",
    "lb = LabelBinarizer(sparse_output=False)\n",
    "y = lb.fit_transform(y)"
   ]
  },
  {
   "cell_type": "markdown",
   "id": "932e871f",
   "metadata": {},
   "source": [
    "## Splitting the Dataset into the Train, Cross Validation and Test sets"
   ]
  },
  {
   "cell_type": "code",
   "execution_count": 5,
   "id": "f887f5e2",
   "metadata": {},
   "outputs": [],
   "source": [
    "from sklearn.model_selection import train_test_split\n",
    "X_train, X_, y_train, y_ = train_test_split(X, y, test_size = 0.40, random_state = 42)\n",
    "X_CV, X_test, y_CV, y_test = train_test_split(X_, y_, test_size = 0.50, random_state = 42)"
   ]
  },
  {
   "cell_type": "markdown",
   "id": "351e3797",
   "metadata": {},
   "source": [
    "## Defining the Softmax Regression Class"
   ]
  },
  {
   "cell_type": "code",
   "execution_count": 6,
   "id": "b9db4618",
   "metadata": {},
   "outputs": [],
   "source": [
    "class CustomSoftmaxRegression():\n",
    "\n",
    "    def __init__(self, max_iter = 1000, learning_rate = 0.01):\n",
    "        \n",
    "        self.max_iter = max_iter\n",
    "        self.learning_rate = learning_rate\n",
    "        self.weights = None\n",
    "        self.bias = None\n",
    "        \n",
    "    def fit(self, X, y):\n",
    "        \n",
    "        n_samples, n_features = X.shape\n",
    "        n_classes = y.shape[1]\n",
    "        self.weights = np.zeros((n_classes, n_features))\n",
    "        self.bias = np.zeros(n_classes)\n",
    "        \n",
    "        for i in range(0, self.max_iter):\n",
    "            weighted_sum = np.dot(X, self.weights.T) + self.bias\n",
    "            h_theta = self._softmax(weighted_sum)\n",
    "            self.gradient_descent(y, h_theta, X, n_samples)\n",
    "                \n",
    "    def predict(self, inputs):\n",
    "        \n",
    "        prob_list = self._softmax(np.dot(inputs, self.weights.T) + self.bias)\n",
    "        return np.array([[1 if x == max(sample) else 0 for x in sample] for sample in prob_list])\n",
    "        \n",
    "    def _softmax(self, x):\n",
    "        \n",
    "        a = np.zeros(x.shape)\n",
    "        for i in range(0, x.shape[0]):\n",
    "            for j in range(0, x.shape[1]):\n",
    "                a[i,j] = np.exp(x[i,j]) / np.sum(np.exp(x[i]))\n",
    "        return a\n",
    "    \n",
    "    \n",
    "    def gradient_descent(self, y, h_theta, X, n_samples):\n",
    "        \n",
    "        self.weights = self.weights - self.learning_rate * (-1 / n_samples) * np.dot((y - h_theta).T, X)\n",
    "        self.bias = self.bias - self.learning_rate * (-1 / n_samples) * np.sum(y - h_theta)\n",
    "        "
   ]
  },
  {
   "cell_type": "markdown",
   "id": "e172b054",
   "metadata": {},
   "source": [
    "## Create an Instance of CustomSoftmaxRegression"
   ]
  },
  {
   "cell_type": "code",
   "execution_count": 7,
   "id": "5b859c5a",
   "metadata": {},
   "outputs": [],
   "source": [
    "sr = CustomSoftmaxRegression()"
   ]
  },
  {
   "cell_type": "markdown",
   "id": "0756fd2c",
   "metadata": {},
   "source": [
    "## Train the model"
   ]
  },
  {
   "cell_type": "code",
   "execution_count": 8,
   "id": "25b6181e",
   "metadata": {},
   "outputs": [],
   "source": [
    "sr.fit(X_train, y_train)"
   ]
  },
  {
   "cell_type": "markdown",
   "id": "b8864a15",
   "metadata": {},
   "source": [
    "## Make predictions on the CV and test set"
   ]
  },
  {
   "cell_type": "code",
   "execution_count": 9,
   "id": "ed3e8b3c",
   "metadata": {},
   "outputs": [],
   "source": [
    "y_train_pred = sr.predict(X_train)\n",
    "y_CV_pred = sr.predict(X_CV)\n",
    "y_test_pred = sr.predict(X_test)"
   ]
  },
  {
   "cell_type": "markdown",
   "id": "bf9ede14",
   "metadata": {},
   "source": [
    "## Converting Binary Probabilities Back to Actual Labels"
   ]
  },
  {
   "cell_type": "code",
   "execution_count": 10,
   "id": "e122edf6",
   "metadata": {},
   "outputs": [],
   "source": [
    "y_train = lb.inverse_transform(y_train)\n",
    "y_train_pred = lb.inverse_transform(y_train_pred)\n",
    "y_CV = lb.inverse_transform(y_CV)\n",
    "y_CV_pred = lb.inverse_transform(y_CV_pred)\n",
    "y_test = lb.inverse_transform(y_test)\n",
    "y_test_pred = lb.inverse_transform(y_test_pred)"
   ]
  },
  {
   "cell_type": "markdown",
   "id": "219f1b85",
   "metadata": {},
   "source": [
    "## Evaluate the model and display the confusion matrix"
   ]
  },
  {
   "cell_type": "code",
   "execution_count": 11,
   "id": "2a56374f",
   "metadata": {},
   "outputs": [
    {
     "name": "stdout",
     "output_type": "stream",
     "text": [
      "Training set accuracy         % 99.72170686456401\n",
      "Cross validation set accuracy % 96.37883008356546\n",
      "Test set accuracy             % 97.77777777777777\n"
     ]
    },
    {
     "data": {
      "image/png": "[encoded data removed]",
      "text/plain": [
       "<Figure size 640x480 with 2 Axes>"
      ]
     },
     "metadata": {},
     "output_type": "display_data"
    }
   ],
   "source": [
    "from sklearn import metrics\n",
    "print(\"Training set accuracy         %\", metrics.accuracy_score(y_train, y_train_pred) * 100)\n",
    "print(\"Cross validation set accuracy %\", metrics.accuracy_score(y_CV, y_CV_pred) * 100)\n",
    "print(\"Test set accuracy             %\", metrics.accuracy_score(y_test, y_test_pred) * 100)\n",
    "\n",
    "cm = metrics.confusion_matrix(y_test, y_test_pred)\n",
    "disp = metrics.ConfusionMatrixDisplay(cm)\n",
    "disp.plot()\n",
    "\n",
    "plt.show()"
   ]
  }
 ],
 "metadata": {
  "kernelspec": {
   "display_name": "Python 3 (ipykernel)",
   "language": "python",
   "name": "python3"
  },
  "language_info": {
   "codemirror_mode": {
    "name": "ipython",
    "version": 3
   },
   "file_extension": ".py",
   "mimetype": "text/x-python",
   "name": "python",
   "nbconvert_exporter": "python",
   "pygments_lexer": "ipython3",
   "version": "3.11.4"
  }
 },
 "nbformat": 4,
 "nbformat_minor": 5
}
