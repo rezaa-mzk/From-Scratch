{
 "cells": [
  {
   "cell_type": "markdown",
   "id": "77c0f293",
   "metadata": {},
   "source": [
    "# Multilayer Perceptron Implementation From Scratch"
   ]
  },
  {
   "cell_type": "markdown",
   "id": "e9490b06",
   "metadata": {},
   "source": [
    "## Importing Necessary Libraries"
   ]
  },
  {
   "cell_type": "code",
   "execution_count": 1,
   "id": "816db292",
   "metadata": {},
   "outputs": [],
   "source": [
    "import numpy as np                                        # Handling scientific operations\n",
    "import pandas as pd                                       # Importing data from a .csv file\n",
    "import matplotlib.pyplot as plt                           # Visualizing confusion matrix"
   ]
  },
  {
   "cell_type": "markdown",
   "id": "6810feda",
   "metadata": {},
   "source": [
    "## Importing the Dataset"
   ]
  },
  {
   "cell_type": "code",
   "execution_count": 2,
   "id": "c2621a95",
   "metadata": {},
   "outputs": [],
   "source": [
    "data = pd.read_csv('./Social_Network_Ads.csv')\n",
    "X = data.iloc[:, :-1].values\n",
    "y = data.iloc[:, -1].values"
   ]
  },
  {
   "cell_type": "markdown",
   "id": "0db1fec4",
   "metadata": {},
   "source": [
    "## Splitting Dataset into Training, Cross Validation and Test sets"
   ]
  },
  {
   "cell_type": "code",
   "execution_count": 3,
   "id": "d4bcb456",
   "metadata": {},
   "outputs": [],
   "source": [
    "from sklearn.model_selection import train_test_split\n",
    "X_train, X_, y_train, y_ = train_test_split(X, y, train_size = 0.6, random_state = 42)\n",
    "X_test, X_CV, y_test, y_CV = train_test_split(X_, y_, test_size = 0.5, random_state = 42)"
   ]
  },
  {
   "cell_type": "markdown",
   "id": "c59a35a8",
   "metadata": {},
   "source": [
    "## Feature Scaling"
   ]
  },
  {
   "cell_type": "code",
   "execution_count": 4,
   "id": "468179b0",
   "metadata": {},
   "outputs": [],
   "source": [
    "# We perform feature scaling after train test split to avoid information leakage\n",
    "from sklearn.preprocessing import StandardScaler\n",
    "sc = StandardScaler()\n",
    "X_train = sc.fit_transform(X_train)\n",
    "X_CV = sc.transform(X_CV)\n",
    "X_test = sc.transform(X_test)"
   ]
  },
  {
   "cell_type": "markdown",
   "id": "d8b58668",
   "metadata": {},
   "source": [
    "## Defining Multilayer Perceptron (MLP) Class"
   ]
  },
  {
   "cell_type": "code",
   "execution_count": 5,
   "id": "03405bd6",
   "metadata": {},
   "outputs": [],
   "source": [
    "class MLP(object):\n",
    "    \n",
    "    def __init__(self, num_inputs=2, hidden_layers=[3,4], num_outputs=1):\n",
    "        self.num_inputs = num_inputs\n",
    "        self.hidden_layers = hidden_layers\n",
    "        self.num_outputs = num_outputs\n",
    "        \n",
    "        layers = [num_inputs] + hidden_layers + [num_outputs]\n",
    "        \n",
    "        weights = []\n",
    "        for i in range(len(layers) - 1):\n",
    "            w = np.random.rand(layers[i], layers[i + 1])\n",
    "            weights.append(w)\n",
    "        self.weights = weights\n",
    "        \n",
    "        biases = []\n",
    "        for i in range(len(layers) - 1):\n",
    "            b = np.zeros((1, layers[i + 1]))\n",
    "            biases.append(b)\n",
    "        self.biases = biases\n",
    "        \n",
    "        \n",
    "        activations = []\n",
    "        for i in range(len(layers)):\n",
    "            a = np.zeros(layers[i])\n",
    "            activations.append(a)\n",
    "        self.activations = activations\n",
    "        \n",
    "        \n",
    "        derivatives = []\n",
    "        for i in range(len(layers) - 1):\n",
    "            d = np.zeros((layers[i], layers[i + 1]))\n",
    "            derivatives.append(a)\n",
    "        self.derivatives = derivatives\n",
    "        \n",
    "        deltas = []\n",
    "        for i in range(len(layers)):\n",
    "            d = np.zeros(layers[i])\n",
    "            deltas.append(d)\n",
    "        self.deltas = deltas\n",
    "\n",
    "    def forward_propagate(self, inputs):\n",
    "        \n",
    "        self.activations[0] = inputs\n",
    "        \n",
    "        for i, (w, b) in enumerate(zip(self.weights, self.biases)):   \n",
    "            z = np.dot(self.activations[i], w) + b\n",
    "            self.activations[i + 1] = self._sigmoid(z)\n",
    "        \n",
    "        return self.activations[-1]\n",
    "    \n",
    "    \n",
    "    def back_propagate(self, error):\n",
    "        \n",
    "        delta = error\n",
    "        self.deltas[-1] = error\n",
    "        for i in reversed(range(len(self.weights))):\n",
    "            self.derivatives[i] = np.dot(self.activations[i].T, delta)\n",
    "            delta = np.dot(delta, self.weights[i].T) * (self.activations[i] * (1 - self.activations[i]))\n",
    "\n",
    "            self.deltas[i] = delta\n",
    "            \n",
    "    def gradient_descent(self, alpha=0.01):\n",
    "        \n",
    "        for i in range(len(self.weights)):\n",
    "            self.weights[i] = self.weights[i] - alpha * self.derivatives[i]\n",
    "            self.biases[i] = self.biases[i] - alpha * np.sum(self.deltas[i+1], axis=0)\n",
    "\n",
    "    \n",
    "    def train(self, X, y, epochs = 1000):\n",
    "        for i in range(epochs):\n",
    "            y_hat = mlp.forward_propagate(X)\n",
    "            error = y_hat - y.reshape(len(y), 1)\n",
    "            self.back_propagate(error)\n",
    "            self.gradient_descent()\n",
    "    \n",
    "    def predict(self, X):\n",
    "        \n",
    "        return [1 if _ >= 0.5 else 0 for _ in self.forward_propagate(X)]\n",
    "    \n",
    "    def _sigmoid(self, x):\n",
    "        return 1 / (1 + np.exp(-x))"
   ]
  },
  {
   "cell_type": "markdown",
   "id": "f88b4b57",
   "metadata": {},
   "source": [
    "## Instantiating and Fitting the Model"
   ]
  },
  {
   "cell_type": "code",
   "execution_count": 6,
   "id": "62c3bccd",
   "metadata": {},
   "outputs": [],
   "source": [
    "mlp = MLP()\n",
    "mlp.train(X_train,y_train)"
   ]
  },
  {
   "cell_type": "markdown",
   "id": "915bd1d7",
   "metadata": {},
   "source": [
    "## Predicting Results"
   ]
  },
  {
   "cell_type": "code",
   "execution_count": 7,
   "id": "43160277",
   "metadata": {},
   "outputs": [],
   "source": [
    "y_train_pred = mlp.predict(X_train)\n",
    "y_CV_pred = mlp.predict(X_CV)\n",
    "y_test_pred = mlp.predict(X_test)"
   ]
  },
  {
   "cell_type": "markdown",
   "id": "d38882c9",
   "metadata": {},
   "source": [
    "## Evaluating Model Performance and Displaying Confusion Matrix"
   ]
  },
  {
   "cell_type": "code",
   "execution_count": 8,
   "id": "2d840916",
   "metadata": {},
   "outputs": [
    {
     "name": "stdout",
     "output_type": "stream",
     "text": [
      "Training set accuracy         % 91.66666666666666\n",
      "Cross validation set accuracy % 92.5\n",
      "Test set accuracy             % 93.75\n"
     ]
    },
    {
     "data": {
      "image/png": "[encoded data removed]",
      "text/plain": [
       "<Figure size 640x480 with 2 Axes>"
      ]
     },
     "metadata": {},
     "output_type": "display_data"
    }
   ],
   "source": [
    "from sklearn import metrics\n",
    "print(\"Training set accuracy         %\", metrics.accuracy_score(y_train, y_train_pred) * 100)\n",
    "print(\"Cross validation set accuracy %\", metrics.accuracy_score(y_CV, y_CV_pred) * 100)\n",
    "print(\"Test set accuracy             %\", metrics.accuracy_score(y_test, y_test_pred) * 100)\n",
    "\n",
    "cm = metrics.confusion_matrix(y_test, y_test_pred)\n",
    "disp = metrics.ConfusionMatrixDisplay(cm)\n",
    "disp.plot()\n",
    "\n",
    "plt.show()"
   ]
  }
 ],
 "metadata": {
  "kernelspec": {
   "display_name": "Python 3 (ipykernel)",
   "language": "python",
   "name": "python3"
  },
  "language_info": {
   "codemirror_mode": {
    "name": "ipython",
    "version": 3
   },
   "file_extension": ".py",
   "mimetype": "text/x-python",
   "name": "python",
   "nbconvert_exporter": "python",
   "pygments_lexer": "ipython3",
   "version": "3.11.5"
  },
  "toc": {
   "base_numbering": 1,
   "nav_menu": {},
   "number_sections": true,
   "sideBar": true,
   "skip_h1_title": false,
   "title_cell": "Table of Contents",
   "title_sidebar": "Contents",
   "toc_cell": false,
   "toc_position": {},
   "toc_section_display": true,
   "toc_window_display": false
  }
 },
 "nbformat": 4,
 "nbformat_minor": 5
}
